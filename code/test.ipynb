{
 "cells": [
  {
   "cell_type": "code",
   "execution_count": 13,
   "source": [
    "import pandas as pd\r\n",
    "import os\r\n",
    "import openpyxl\r\n",
    "import jieba\r\n",
    "import re\r\n",
    "\r\n",
    "# Count Vectors + RidgeClassifier\r\n",
    "\r\n",
    "from sklearn.feature_extraction.text import CountVectorizer\r\n",
    "from sklearn.linear_model import RidgeClassifier\r\n",
    "from sklearn.metrics import f1_score\r\n",
    "\r\n",
    "from collections import Counter\r\n",
    "\r\n",
    "train_df = pd.read_csv(\"../data/train_set.csv\",encoding='ANSI')\r\n",
    "test_df = pd.read_csv(\"../data/test_set.csv\", encoding=\"utf-8\")\r\n",
    "\r\n",
    "vectorizer = CountVectorizer(max_features=3000)\r\n",
    "train_test = vectorizer.fit_transform(train_df['text'].values.astype('U'))\r\n",
    "test_test = vectorizer.fit_transform(test_df['text'].values.astype('U'))\r\n",
    "\r\n",
    "clf = RidgeClassifier()\r\n",
    "clf.fit(train_test[:10000], train_df['label'].values[:10000])\r\n",
    "\r\n",
    "# 预测集\r\n",
    "val_pred = clf.predict(train_test[10000:])\r\n",
    "\r\n",
    "print(f1_score(train_df['label'].values[10000:], val_pred, average='macro'))\r\n",
    "# 测试集\r\n",
    "val_pred2 = clf.predict(test_test)"
   ],
   "outputs": [
    {
     "output_type": "stream",
     "name": "stdout",
     "text": [
      "0.8207100395680607\n"
     ]
    }
   ],
   "metadata": {}
  },
  {
   "cell_type": "code",
   "execution_count": 17,
   "source": [
    "filePath = \"../data/type.xlsx\"\r\n",
    "wb = openpyxl.load_workbook(filePath)   # 打开excel文件\r\n",
    "\r\n",
    "ws = wb['类别']\r\n",
    "\r\n",
    "for i in range(2, ws.max_row+1):\r\n",
    "\r\n",
    "    ws.cell(row=i, column=2, value = str(val_pred2[i-2]))\r\n",
    "\r\n",
    "wb.save(\"../data/type.xlsx\")\r\n"
   ],
   "outputs": [],
   "metadata": {}
  },
  {
   "cell_type": "code",
   "execution_count": 11,
   "source": [
    "dic = {'科技': 0,  '体育': 2, '娱乐': 3,  '军事': 4, '其他': 5, '教育': 6, '财经': 7, '汽车': 8, '游戏': 9, '房产': 10 }\r\n",
    "i = 2\r\n",
    "for key in dic:\r\n",
    "    if dic[key] == i:\r\n",
    "        strs = key\r\n",
    "\r\n",
    "print(strs)"
   ],
   "outputs": [
    {
     "output_type": "stream",
     "name": "stdout",
     "text": [
      "体育\n"
     ]
    }
   ],
   "metadata": {}
  },
  {
   "cell_type": "code",
   "execution_count": 18,
   "source": [
    "filePath = \"../data/type.xlsx\"\r\n",
    "wb = openpyxl.load_workbook(filePath)   # 打开excel文件\r\n",
    "\r\n",
    "ws = wb['类别']\r\n",
    "channelName = ws['channelName']\r\n",
    "dic = {'科技': 0,  '体育': 2, '娱乐': 3,  '军事': 4, '其他': 5, '教育': 6, '财经': 7, '汽车': 8, '游戏': 9, '房产': 10 }\r\n",
    "\r\n",
    "for i in range(2, ws.max_row+1):\r\n",
    "    ws.cell(row=i, column=2, value = strs)\r\n",
    "\r\n",
    "wb.save(\"../data/type.xlsx\")"
   ],
   "outputs": [
    {
     "output_type": "error",
     "ename": "TypeError",
     "evalue": "'<' not supported between instances of 'str' and 'int'",
     "traceback": [
      "\u001b[1;31m---------------------------------------------------------------------------\u001b[0m",
      "\u001b[1;31mTypeError\u001b[0m                                 Traceback (most recent call last)",
      "\u001b[1;32m<ipython-input-18-5405bf69b402>\u001b[0m in \u001b[0;36m<module>\u001b[1;34m\u001b[0m\n\u001b[0;32m      7\u001b[0m \u001b[1;33m\u001b[0m\u001b[0m\n\u001b[0;32m      8\u001b[0m \u001b[1;32mfor\u001b[0m \u001b[0mi\u001b[0m \u001b[1;32min\u001b[0m \u001b[0mrange\u001b[0m\u001b[1;33m(\u001b[0m\u001b[1;36m2\u001b[0m\u001b[1;33m,\u001b[0m \u001b[0mws\u001b[0m\u001b[1;33m.\u001b[0m\u001b[0mmax_row\u001b[0m\u001b[1;33m+\u001b[0m\u001b[1;36m1\u001b[0m\u001b[1;33m)\u001b[0m\u001b[1;33m:\u001b[0m\u001b[1;33m\u001b[0m\u001b[0m\n\u001b[1;32m----> 9\u001b[1;33m     \u001b[0mws\u001b[0m\u001b[1;33m.\u001b[0m\u001b[0mcell\u001b[0m\u001b[1;33m(\u001b[0m\u001b[0mrow\u001b[0m\u001b[1;33m=\u001b[0m\u001b[0mi\u001b[0m\u001b[1;33m,\u001b[0m \u001b[0mcolumn\u001b[0m\u001b[1;33m=\u001b[0m\u001b[1;34m\"channelName\"\u001b[0m\u001b[1;33m,\u001b[0m \u001b[0mvalue\u001b[0m \u001b[1;33m=\u001b[0m \u001b[0mstrs\u001b[0m\u001b[1;33m)\u001b[0m\u001b[1;33m\u001b[0m\u001b[0m\n\u001b[0m\u001b[0;32m     10\u001b[0m \u001b[1;33m\u001b[0m\u001b[0m\n\u001b[0;32m     11\u001b[0m \u001b[0mwb\u001b[0m\u001b[1;33m.\u001b[0m\u001b[0msave\u001b[0m\u001b[1;33m(\u001b[0m\u001b[1;34m\"../data/type.xlsx\"\u001b[0m\u001b[1;33m)\u001b[0m\u001b[1;33m\u001b[0m\u001b[0m\n",
      "\u001b[1;32mD:\\Program\\Python36\\lib\\site-packages\\openpyxl\\worksheet\\worksheet.py\u001b[0m in \u001b[0;36mcell\u001b[1;34m(self, row, column, value)\u001b[0m\n\u001b[0;32m    235\u001b[0m         \"\"\"\n\u001b[0;32m    236\u001b[0m \u001b[1;33m\u001b[0m\u001b[0m\n\u001b[1;32m--> 237\u001b[1;33m         \u001b[1;32mif\u001b[0m \u001b[0mrow\u001b[0m \u001b[1;33m<\u001b[0m \u001b[1;36m1\u001b[0m \u001b[1;32mor\u001b[0m \u001b[0mcolumn\u001b[0m \u001b[1;33m<\u001b[0m \u001b[1;36m1\u001b[0m\u001b[1;33m:\u001b[0m\u001b[1;33m\u001b[0m\u001b[0m\n\u001b[0m\u001b[0;32m    238\u001b[0m             \u001b[1;32mraise\u001b[0m \u001b[0mValueError\u001b[0m\u001b[1;33m(\u001b[0m\u001b[1;34m\"Row or column values must be at least 1\"\u001b[0m\u001b[1;33m)\u001b[0m\u001b[1;33m\u001b[0m\u001b[0m\n\u001b[0;32m    239\u001b[0m \u001b[1;33m\u001b[0m\u001b[0m\n",
      "\u001b[1;31mTypeError\u001b[0m: '<' not supported between instances of 'str' and 'int'"
     ]
    }
   ],
   "metadata": {}
  }
 ],
 "metadata": {
  "orig_nbformat": 4,
  "language_info": {
   "name": "python",
   "version": "3.6.3",
   "mimetype": "text/x-python",
   "codemirror_mode": {
    "name": "ipython",
    "version": 3
   },
   "pygments_lexer": "ipython3",
   "nbconvert_exporter": "python",
   "file_extension": ".py"
  },
  "kernelspec": {
   "name": "python3",
   "display_name": "Python 3.6.3 64-bit"
  },
  "interpreter": {
   "hash": "fd6286a516d020cc8bafab558dc85c22f51e2167295f533ad94e43f4ac2f7c17"
  }
 },
 "nbformat": 4,
 "nbformat_minor": 2
}