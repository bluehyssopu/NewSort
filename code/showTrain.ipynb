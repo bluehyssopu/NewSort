{
 "cells": [
  {
   "cell_type": "code",
   "execution_count": null,
   "source": [
    "# 针对 训练集"
   ],
   "outputs": [],
   "metadata": {}
  },
  {
   "cell_type": "code",
   "execution_count": 9,
   "source": [
    "# 读取文件\r\n",
    "import pandas as pd\r\n",
    "\r\n",
    "filename = \"../data/train_set.csv\"\r\n",
    "train_df = pd.read_csv(filename, encoding=\"ANSI\")"
   ],
   "outputs": [],
   "metadata": {}
  },
  {
   "cell_type": "code",
   "execution_count": 10,
   "source": [
    "# 显示前五行\r\n",
    "train_df.head()"
   ],
   "outputs": [
    {
     "output_type": "execute_result",
     "data": {
      "text/plain": [
       "   label                                               text\n",
       "0      6   武汉 一座 英雄 城市 曾 一起 并肩作战 真是 倍感 荣光 舍小家 大家 守 一城护 一...\n",
       "1     10   中新社 广州 6 月 12 日电 记者 许 青青 合富 辉煌 中国 商业地产 合富 研究院...\n",
       "2      7   文化 过大年 云上 更 精彩 查干湖 19 届 冰雪 渔猎 文化 旅游节 上 来自 全国 ...\n",
       "3      9   今早 类魂 游戏 致命 躯壳 官方 正式 宣布 本作 现已 正式 售出 超过 50 万份 ...\n",
       "4      7   促进 区域 协调 发展 路径分析 我国 拥有 14 亿 人口 发展 中 大国 区域 发展 ..."
      ],
      "text/html": [
       "<div>\n",
       "<style scoped>\n",
       "    .dataframe tbody tr th:only-of-type {\n",
       "        vertical-align: middle;\n",
       "    }\n",
       "\n",
       "    .dataframe tbody tr th {\n",
       "        vertical-align: top;\n",
       "    }\n",
       "\n",
       "    .dataframe thead th {\n",
       "        text-align: right;\n",
       "    }\n",
       "</style>\n",
       "<table border=\"1\" class=\"dataframe\">\n",
       "  <thead>\n",
       "    <tr style=\"text-align: right;\">\n",
       "      <th></th>\n",
       "      <th>label</th>\n",
       "      <th>text</th>\n",
       "    </tr>\n",
       "  </thead>\n",
       "  <tbody>\n",
       "    <tr>\n",
       "      <th>0</th>\n",
       "      <td>6</td>\n",
       "      <td>武汉 一座 英雄 城市 曾 一起 并肩作战 真是 倍感 荣光 舍小家 大家 守 一城护 一...</td>\n",
       "    </tr>\n",
       "    <tr>\n",
       "      <th>1</th>\n",
       "      <td>10</td>\n",
       "      <td>中新社 广州 6 月 12 日电 记者 许 青青 合富 辉煌 中国 商业地产 合富 研究院...</td>\n",
       "    </tr>\n",
       "    <tr>\n",
       "      <th>2</th>\n",
       "      <td>7</td>\n",
       "      <td>文化 过大年 云上 更 精彩 查干湖 19 届 冰雪 渔猎 文化 旅游节 上 来自 全国 ...</td>\n",
       "    </tr>\n",
       "    <tr>\n",
       "      <th>3</th>\n",
       "      <td>9</td>\n",
       "      <td>今早 类魂 游戏 致命 躯壳 官方 正式 宣布 本作 现已 正式 售出 超过 50 万份 ...</td>\n",
       "    </tr>\n",
       "    <tr>\n",
       "      <th>4</th>\n",
       "      <td>7</td>\n",
       "      <td>促进 区域 协调 发展 路径分析 我国 拥有 14 亿 人口 发展 中 大国 区域 发展 ...</td>\n",
       "    </tr>\n",
       "  </tbody>\n",
       "</table>\n",
       "</div>"
      ]
     },
     "metadata": {},
     "execution_count": 10
    }
   ],
   "metadata": {}
  },
  {
   "cell_type": "code",
   "execution_count": 11,
   "source": [
    "# 简单显示文本长度\r\n",
    "train_df['text_len'] = train_df['text'].apply(lambda x: len(str(x).split(' ')))\r\n",
    "train_df['text_len'].describe()"
   ],
   "outputs": [
    {
     "output_type": "execute_result",
     "data": {
      "text/plain": [
       "count    14534.000000\n",
       "mean       395.600523\n",
       "std        293.685739\n",
       "min          9.000000\n",
       "25%        205.000000\n",
       "50%        312.000000\n",
       "75%        486.000000\n",
       "max       2704.000000\n",
       "Name: text_len, dtype: float64"
      ]
     },
     "metadata": {},
     "execution_count": 11
    }
   ],
   "metadata": {}
  },
  {
   "cell_type": "code",
   "execution_count": 12,
   "source": [
    "# 绘制分布图\r\n",
    "import matplotlib.pyplot as plt\r\n",
    "_ = plt.hist(train_df['text_len'], bins=200)\r\n",
    "plt.xlabel('Text char count')\r\n",
    "plt.title(\"Histogram of char count\")"
   ],
   "outputs": [
    {
     "output_type": "execute_result",
     "data": {
      "text/plain": [
       "Text(0.5, 1.0, 'Histogram of char count')"
      ]
     },
     "metadata": {},
     "execution_count": 12
    },
    {
     "output_type": "display_data",
     "data": {
      "text/plain": [
       "<Figure size 432x288 with 1 Axes>"
      ],
      "image/png": "[encoded data removed]"
     },
     "metadata": {
      "needs_background": "light"
     }
    }
   ],
   "metadata": {}
  },
  {
   "cell_type": "code",
   "execution_count": 13,
   "source": [
    "%matplotlib inline\r\n",
    "plt.rcParams['font.sans-serif']=['SimHei']\r\n",
    "plt.rcParams['axes.unicode_minus']=False\r\n",
    "\r\n",
    "train_df['label'].value_counts().plot(kind='barh')\r\n",
    "plt.title('News class count')\r\n",
    "plt.xlabel(\"category\")"
   ],
   "outputs": [
    {
     "output_type": "execute_result",
     "data": {
      "text/plain": [
       "Text(0.5, 0, 'category')"
      ]
     },
     "metadata": {},
     "execution_count": 13
    },
    {
     "output_type": "display_data",
     "data": {
      "text/plain": [
       "<Figure size 432x288 with 1 Axes>"
      ],
      "image/png": "[encoded data removed]"
     },
     "metadata": {
      "needs_background": "light"
     }
    }
   ],
   "metadata": {}
  },
  {
   "cell_type": "code",
   "execution_count": 15,
   "source": [
    "# 统计词频\r\n",
    "from collections import Counter\r\n",
    "all_lines = ' '.join(str(train_df['text']))\r\n",
    "word_count = Counter(all_lines.split(\" \"))\r\n",
    "word_count = sorted(word_count.items(), key=lambda d:d[1], reverse = True)\r\n",
    "\r\n",
    "print(len(word_count))\r\n",
    "\r\n",
    "print(word_count[0:10])\r\n"
   ],
   "outputs": [
    {
     "output_type": "stream",
     "name": "stdout",
     "text": [
      "221\n",
      "[('', 558), ('.', 33), ('1', 17), ('\\n', 11), ('3', 9), ('4', 9), ('2', 8), ('5', 8), ('日', 6), ('0', 5)]\n",
      "('c', 1)\n"
     ]
    }
   ],
   "metadata": {}
  },
  {
   "cell_type": "code",
   "execution_count": 16,
   "source": [
    "# 词袋\r\n",
    "\r\n",
    "from collections import Counter\r\n",
    "train_df['text_unique'] = train_df['text'].apply(lambda x: ' '.join(list(set(str(x).split(' ')))))\r\n",
    "all_lines = ' '.join(list(train_df['text_unique']))\r\n",
    "word_count = Counter(all_lines.split(\" \"))\r\n",
    "word_count = sorted(word_count.items(), key=lambda d:int(d[1]), reverse = True)\r\n",
    "\r\n",
    "print(word_count[0])\r\n",
    "print(word_count[1])\r\n",
    "print(word_count[2])\r\n",
    "print(word_count[3])\r\n",
    "print(word_count[4])\r\n",
    "print(word_count[5])"
   ],
   "outputs": [
    {
     "output_type": "stream",
     "name": "stdout",
     "text": [
      "('', 14534)\n",
      "('月', 11946)\n",
      "('年', 9544)\n",
      "('日', 9341)\n",
      "('上', 8215)\n",
      "('日电', 7918)\n"
     ]
    }
   ],
   "metadata": {}
  },
  {
   "cell_type": "code",
   "execution_count": 18,
   "source": [
    "# Count Vectors + RidgeClassifier\r\n",
    "# 词袋 + 特征值提取\r\n",
    "import pandas as pd\r\n",
    "\r\n",
    "from sklearn.feature_extraction.text import CountVectorizer\r\n",
    "from sklearn.linear_model import RidgeClassifier\r\n",
    "from sklearn.metrics import f1_score\r\n",
    "\r\n",
    "train_df = pd.read_csv('../data/train_set.csv',encoding='ANSI')\r\n",
    "\r\n",
    "vectorizer = CountVectorizer(max_features=3000)\r\n",
    "train_test = vectorizer.fit_transform(train_df['text'].values.astype('U'))\r\n",
    "\r\n",
    "clf = RidgeClassifier()\r\n",
    "clf.fit(train_test[:10000], train_df['label'].values[:10000])\r\n",
    "\r\n",
    "val_pred = clf.predict(train_test[10000:])\r\n",
    "\r\n",
    "print(f1_score(train_df['label'].values[10000:], val_pred, average='macro'))\r\n",
    "print(type(val_pred))\r\n",
    "\r\n",
    "# 0.10343472451465849\r\n",
    "# 0.10357460616527975 \r\n",
    "# 一定要打乱训练的顺序\r\n",
    "# 0.8491012463815872\r\n",
    "# 0.8207100395680607"
   ],
   "outputs": [
    {
     "output_type": "stream",
     "name": "stdout",
     "text": [
      "0.8207100395680607\n",
      "<class 'numpy.ndarray'>\n"
     ]
    }
   ],
   "metadata": {}
  },
  {
   "cell_type": "code",
   "execution_count": 20,
   "source": [
    "# 朴素贝叶斯\r\n",
    "# TF-IDF +  RidgeClassifier\r\n",
    "\r\n",
    "import pandas as pd\r\n",
    "\r\n",
    "from sklearn.feature_extraction.text import TfidfVectorizer\r\n",
    "from sklearn.linear_model import RidgeClassifier\r\n",
    "from sklearn.metrics import f1_score\r\n",
    "\r\n",
    "train_df = pd.read_csv('../data/train_set.csv', encoding=\"ANSI\")\r\n",
    "\r\n",
    "tfidf = TfidfVectorizer(ngram_range=(1,3), max_features=3000)\r\n",
    "train_test = tfidf.fit_transform(train_df['text'])\r\n",
    "\r\n",
    "clf = RidgeClassifier()\r\n",
    "clf.fit(train_test[:10000], train_df['label'].values[:10000])\r\n",
    "\r\n",
    "val_pred = clf.predict(train_test[10000:])\r\n",
    "print(f1_score(train_df['label'].values[10000:], val_pred, average='macro'))\r\n",
    "# 0.10658403152377673\r\n",
    "# 0.10661056926117167\r\n",
    "# 0.8404218282357144\r\n",
    "# 0.8602994126998214"
   ],
   "outputs": [
    {
     "output_type": "stream",
     "name": "stdout",
     "text": [
      "0.8602994126998214\n"
     ]
    }
   ],
   "metadata": {}
  }
 ],
 "metadata": {
  "orig_nbformat": 4,
  "language_info": {
   "name": "python",
   "version": "3.6.3",
   "mimetype": "text/x-python",
   "codemirror_mode": {
    "name": "ipython",
    "version": 3
   },
   "pygments_lexer": "ipython3",
   "nbconvert_exporter": "python",
   "file_extension": ".py"
  },
  "kernelspec": {
   "name": "python3",
   "display_name": "Python 3.6.3 64-bit"
  },
  "interpreter": {
   "hash": "fd6286a516d020cc8bafab558dc85c22f51e2167295f533ad94e43f4ac2f7c17"
  }
 },
 "nbformat": 4,
 "nbformat_minor": 2
}