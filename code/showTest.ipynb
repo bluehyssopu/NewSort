{
 "cells": [
  {
   "cell_type": "code",
   "execution_count": 1,
   "source": [
    "# 处理测试集 xlsx中的脏数据\r\n",
    "\r\n",
    "import openpyxl\r\n",
    "import jieba\r\n",
    "import re\r\n",
    "\r\n",
    "# 加载 哈工大的停用词表 清洗用到\r\n",
    "with open(\"../data/hit_stopwords.txt\", 'r', encoding='utf-8') as f:\r\n",
    "    stopword_list = [w.strip('\\n') for w in f.readlines()]\r\n",
    "\r\n",
    "filePath = \"../data/type.xlsx\"\r\n",
    "wb = openpyxl.load_workbook(filePath)   # 打开excel文件\r\n",
    "ws = wb['类别']     # 定位 sheet\r\n",
    "results = []\r\n",
    "\r\n",
    "# 这里把title 和 conten结合成一个str\r\n",
    "for i in range(2, ws.max_row+1):\r\n",
    "    lists = []\r\n",
    "    strs = \"\"\r\n",
    "    strs = strs + ws.cell(i, 3).value + \" \" + ws.cell(i, 4).value\r\n",
    "\r\n",
    "    # 去除中文标点符号\r\n",
    "    strs = re.sub(\"[\\s+\\.\\!\\-\\/_,$%^*()+\\\"\\']+|[+——！，。？、~@#￥%……&*（）：”“]\", \"\",strs)\r\n",
    "    # 使用jieba进行分词，将文本分成词语列表\r\n",
    "    words = jieba.lcut(strs)\r\n",
    "    result = \"\"\r\n",
    "    # 然后清除停用词语\r\n",
    "    for word in words:\r\n",
    "        if word not in stopword_list:\r\n",
    "            result = result + word + \" \"\r\n",
    "\r\n",
    "\r\n",
    "    lists.append(ws.cell(i, 1).value)\r\n",
    "    lists.append(result)\r\n",
    "    results.append(lists)\r\n",
    "\r\n",
    "# 得到一个list 然后写入csv\r\n",
    "# print(results)"
   ],
   "outputs": [],
   "metadata": {}
  },
  {
   "cell_type": "code",
   "execution_count": 2,
   "source": [
    "# 生成 csv文件\r\n",
    "import csv\r\n",
    "\r\n",
    "header = ['Number', 'text']\r\n",
    "with open('../data/test_set.csv', 'w', encoding='utf-8', newline='') as f: # 解决空行的问题\r\n",
    "    writer = csv.writer(f)\r\n",
    "    writer.writerow(header)\r\n",
    "    writer.writerows(results)\r\n",
    "\r\n",
    "f.close()       # 记得关闭文件"
   ],
   "outputs": [],
   "metadata": {}
  },
  {
   "cell_type": "code",
   "execution_count": 6,
   "source": [
    "# Count Vectors + RidgeClassifier\r\n",
    "\r\n",
    "import pandas as pd\r\n",
    "\r\n",
    "from sklearn.feature_extraction.text import CountVectorizer\r\n",
    "from sklearn.linear_model import RidgeClassifier\r\n",
    "from sklearn.metrics import f1_score\r\n",
    "\r\n",
    "train_df = pd.read_csv(\"../data/train_set.csv\",encoding='ANSI')\r\n",
    "test_df = pd.read_csv(\"../data/test_set.csv\", encoding=\"utf-8\")\r\n",
    "\r\n",
    "vectorizer = CountVectorizer(max_features=3000)\r\n",
    "# 定位 训练列\r\n",
    "train_test = vectorizer.fit_transform(train_df['text'].values.astype('U'))\r\n",
    "test_test = vectorizer.fit_transform(test_df['text'].values.astype('U'))\r\n",
    "\r\n",
    "clf = RidgeClassifier()\r\n",
    "# 这里可以设置 训练集的范文围 如 train_test[:10000] 训练集的 70%训练 30%预测\r\n",
    "clf.fit(train_test, train_df['label'].values)\r\n",
    "\r\n",
    "# 得到模型的得分\r\n",
    "val_pred = clf.predict(train_test[10000:])\r\n",
    "\r\n",
    "# 输出得分\r\n",
    "print(f1_score(train_df['label'].values[10000:], val_pred, average='macro'))\r\n",
    "\r\n",
    "# 测试集 预测\r\n",
    "val_pred2 = clf.predict(test_test)\r\n",
    "\r\n",
    "# 写入预测值至xlsx\r\n",
    "filePath = \"../data/type.xlsx\"\r\n",
    "wb = openpyxl.load_workbook(filePath)   # 打开excel文件\r\n",
    "\r\n",
    "ws = wb['类别']\r\n",
    "\r\n",
    "for i in range(2, ws.max_row+1):\r\n",
    "    ws.cell(row=i, column=2, value = str(val_pred2[i-2]))\r\n",
    "\r\n",
    "wb.save(\"../data/type.xlsx\")"
   ],
   "outputs": [
    {
     "output_type": "stream",
     "name": "stdout",
     "text": [
      "0.9201683620360309\n"
     ]
    }
   ],
   "metadata": {}
  },
  {
   "cell_type": "code",
   "execution_count": null,
   "source": [
    "# 打包\r\n",
    "# pyinstaller -p D:\\\\code\\\\Python_work\\\\NewSortEnd\\\\code -F test2.py --hidden-import sklearn.utils._weight_vector"
   ],
   "outputs": [],
   "metadata": {}
  }
 ],
 "metadata": {
  "orig_nbformat": 4,
  "language_info": {
   "name": "python",
   "version": "3.6.3",
   "mimetype": "text/x-python",
   "codemirror_mode": {
    "name": "ipython",
    "version": 3
   },
   "pygments_lexer": "ipython3",
   "nbconvert_exporter": "python",
   "file_extension": ".py"
  },
  "kernelspec": {
   "name": "python3",
   "display_name": "Python 3.6.3 64-bit"
  },
  "interpreter": {
   "hash": "fd6286a516d020cc8bafab558dc85c22f51e2167295f533ad94e43f4ac2f7c17"
  }
 },
 "nbformat": 4,
 "nbformat_minor": 2
}